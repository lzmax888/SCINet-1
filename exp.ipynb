{
 "cells": [
  {
   "cell_type": "code",
   "execution_count": 5,
   "metadata": {},
   "outputs": [],
   "source": [
    "import math\n",
    "import torch.nn.functional as F\n",
    "from torch.autograd import Variable\n",
    "from torch import nn\n",
    "import torch\n",
    "import argparse\n",
    "import numpy as np\n",
    "\n",
    "from models.SCINet import SCINet"
   ]
  },
  {
   "cell_type": "code",
   "execution_count": 11,
   "metadata": {},
   "outputs": [],
   "source": [
    "parser = argparse.ArgumentParser()\n",
    "\n",
    "parser.add_argument('--window_size', type=int, default=96)\n",
    "parser.add_argument('--horizon', type=int, default=12)\n",
    "\n",
    "parser.add_argument('--dropout', type=float, default=0.5)\n",
    "parser.add_argument('--groups', type=int, default=1)\n",
    "\n",
    "parser.add_argument('--hidden-size', default=1, type=int, help='hidden channel of module')\n",
    "parser.add_argument('--INN', default=1, type=int, help='use INN or basic strategy')\n",
    "parser.add_argument('--kernel', default=3, type=int, help='kernel size')\n",
    "parser.add_argument('--dilation', default=1, type=int, help='dilation')\n",
    "parser.add_argument('--positionalEcoding', type=bool, default=True)\n",
    "\n",
    "parser.add_argument('--single_step_output_One', type=int, default=0)\n",
    "\n",
    "args = parser.parse_known_args()[0]\n",
    "\n",
    "model = SCINet(output_len = args.horizon, input_len= args.window_size, input_dim = 9, hid_size = args.hidden_size, num_stacks = 1,\n",
    "            num_levels = 3, concat_len = 0, groups = args.groups, kernel = args.kernel, dropout = args.dropout,\n",
    "                single_step_output_One = args.single_step_output_One, positionalE =  args.positionalEcoding, modified = True).cuda()\n",
    "x = torch.randn(32, 96, 9).cuda()\n",
    "y = model(x)\n",
    "\n"
   ]
  },
  {
   "cell_type": "code",
   "execution_count": 14,
   "metadata": {},
   "outputs": [
    {
     "data": {
      "text/plain": [
       "torch.Size([32, 12, 9])"
      ]
     },
     "execution_count": 14,
     "metadata": {},
     "output_type": "execute_result"
    }
   ],
   "source": [
    "y.shape"
   ]
  },
  {
   "cell_type": "code",
   "execution_count": 15,
   "metadata": {},
   "outputs": [
    {
     "data": {
      "text/plain": [
       "torch.Size([32, 96, 9])"
      ]
     },
     "execution_count": 15,
     "metadata": {},
     "output_type": "execute_result"
    }
   ],
   "source": [
    "x.shape"
   ]
  },
  {
   "cell_type": "code",
   "execution_count": null,
   "metadata": {},
   "outputs": [],
   "source": []
  }
 ],
 "metadata": {
  "interpreter": {
   "hash": "5c2281a0915ab44b0c43999e8c323df69f69638f090abab4483b2432c0c783c8"
  },
  "kernelspec": {
   "display_name": "Python 3.8.12 ('scinet': conda)",
   "language": "python",
   "name": "python3"
  },
  "language_info": {
   "codemirror_mode": {
    "name": "ipython",
    "version": 3
   },
   "file_extension": ".py",
   "mimetype": "text/x-python",
   "name": "python",
   "nbconvert_exporter": "python",
   "pygments_lexer": "ipython3",
   "version": "3.8.12"
  },
  "orig_nbformat": 4
 },
 "nbformat": 4,
 "nbformat_minor": 2
}
